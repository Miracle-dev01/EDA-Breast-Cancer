{
 "cells": [
  {
   "cell_type": "markdown",
   "id": "7d656472",
   "metadata": {
    "_cell_guid": "a73d4a50-ce59-42b1-945d-f99658b4c155",
    "_uuid": "4cd2e240de9fb92725cd6931ac174d5c0ea197c6",
    "papermill": {
     "duration": 0.010092,
     "end_time": "2023-12-07T19:52:31.915223",
     "exception": false,
     "start_time": "2023-12-07T19:52:31.905131",
     "status": "completed"
    },
    "tags": []
   },
   "source": [
    "# About The Dataset\n",
    "\n",
    "The dataset contains a variety of features that represent properties of the cell nucleus. The mean, standard error, and largest values for each of these attributes are calculated and categorized.\n",
    "\n",
    "- **id**\n",
    "- **diagnosis**: M = malignant, B = benign\n",
    "\n",
    "Columns 3 to 32 contain ten real-valued features for each cell nucleus:\n",
    "\n",
    "- **radius**: distance from the center to points on the perimeter\n",
    "- **texture**: standard deviation of gray-scale values\n",
    "- **perimeter**\n",
    "- **area**\n",
    "- **smoothness**: local variation in radius lengths\n",
    "- **compactness**: perimeter^2 / area - 1.0\n",
    "- **concavity**: severity of concave portions of the contour\n",
    "- **concave points**: number of concave portions of the contour\n",
    "- **symmetry**\n",
    "- **fractal dimension**: \"coastline approximation\" - 1"
   ]
  },
  {
   "cell_type": "code",
   "execution_count": 2,
   "id": "60819b37",
   "metadata": {
    "_cell_guid": "695ad59e-69fa-4a0d-a59f-204856d2c71e",
    "_kg_hide-output": true,
    "_uuid": "578c081220dce5fb90e3622f1ff3adefcef70971",
    "execution": {
     "iopub.execute_input": "2023-12-07T19:52:31.936207Z",
     "iopub.status.busy": "2023-12-07T19:52:31.935740Z",
     "iopub.status.idle": "2023-12-07T19:52:37.060812Z",
     "shell.execute_reply": "2023-12-07T19:52:37.057393Z"
    },
    "papermill": {
     "duration": 5.140217,
     "end_time": "2023-12-07T19:52:37.064993",
     "exception": false,
     "start_time": "2023-12-07T19:52:31.924776",
     "status": "completed"
    },
    "tags": []
   },
   "outputs": [],
   "source": [
    "# Required Libraries\n",
    "import pandas as pd\n",
    "import numpy as np\n",
    "import matplotlib.pyplot as plt\n",
    "import seaborn as sns\n",
    "from sklearn.preprocessing import StandardScaler\n",
    "import sklearn.linear_model as skl_lm\n",
    "from sklearn import preprocessing\n",
    "from sklearn import neighbors\n",
    "from sklearn.metrics import confusion_matrix, classification_report, precision_score\n",
    "from sklearn.model_selection import train_test_split\n",
    "import statsmodels.api as sm\n",
    "import statsmodels.formula.api as smf\n",
    "import plotly.express as px\n",
    "\n",
    "# Adjusting Visual Styles\n",
    "sns.set_style(\"whitegrid\")\n",
    "sns.set_context(\"paper\", font_scale=1.3)\n"
   ]
  },
  {
   "cell_type": "markdown",
   "id": "8e03f06d",
   "metadata": {
    "papermill": {
     "duration": 0.009675,
     "end_time": "2023-12-07T19:52:37.085006",
     "exception": false,
     "start_time": "2023-12-07T19:52:37.075331",
     "status": "completed"
    },
    "tags": []
   },
   "source": [
    "Reading the data from the csv file and printing the first 5 rows"
   ]
  },
  {
   "cell_type": "code",
   "execution_count": 3,
   "id": "5c23db0c",
   "metadata": {
    "_cell_guid": "bd98c087-a305-4d9b-b581-c6245fdc8f25",
    "_kg_hide-output": false,
    "_uuid": "15f3de69cbef86cf97c2bf2c97ebe9faadf007ee",
    "execution": {
     "iopub.execute_input": "2023-12-07T19:52:37.108786Z",
     "iopub.status.busy": "2023-12-07T19:52:37.108154Z",
     "iopub.status.idle": "2023-12-07T19:52:37.188656Z",
     "shell.execute_reply": "2023-12-07T19:52:37.187789Z"
    },
    "papermill": {
     "duration": 0.096118,
     "end_time": "2023-12-07T19:52:37.190930",
     "exception": false,
     "start_time": "2023-12-07T19:52:37.094812",
     "status": "completed"
    },
    "scrolled": true,
    "tags": []
   },
   "outputs": [
    {
     "data": {
      "text/html": [
       "<div>\n",
       "<style scoped>\n",
       "    .dataframe tbody tr th:only-of-type {\n",
       "        vertical-align: middle;\n",
       "    }\n",
       "\n",
       "    .dataframe tbody tr th {\n",
       "        vertical-align: top;\n",
       "    }\n",
       "\n",
       "    .dataframe thead th {\n",
       "        text-align: right;\n",
       "    }\n",
       "</style>\n",
       "<table border=\"1\" class=\"dataframe\">\n",
       "  <thead>\n",
       "    <tr style=\"text-align: right;\">\n",
       "      <th></th>\n",
       "      <th>diagnosis</th>\n",
       "      <th>radius_mean</th>\n",
       "      <th>texture_mean</th>\n",
       "      <th>perimeter_mean</th>\n",
       "      <th>area_mean</th>\n",
       "      <th>smoothness_mean</th>\n",
       "      <th>compactness_mean</th>\n",
       "      <th>concavity_mean</th>\n",
       "      <th>concave points_mean</th>\n",
       "      <th>symmetry_mean</th>\n",
       "      <th>...</th>\n",
       "      <th>texture_worst</th>\n",
       "      <th>perimeter_worst</th>\n",
       "      <th>area_worst</th>\n",
       "      <th>smoothness_worst</th>\n",
       "      <th>compactness_worst</th>\n",
       "      <th>concavity_worst</th>\n",
       "      <th>concave points_worst</th>\n",
       "      <th>symmetry_worst</th>\n",
       "      <th>fractal_dimension_worst</th>\n",
       "      <th>Unnamed: 32</th>\n",
       "    </tr>\n",
       "    <tr>\n",
       "      <th>id</th>\n",
       "      <th></th>\n",
       "      <th></th>\n",
       "      <th></th>\n",
       "      <th></th>\n",
       "      <th></th>\n",
       "      <th></th>\n",
       "      <th></th>\n",
       "      <th></th>\n",
       "      <th></th>\n",
       "      <th></th>\n",
       "      <th></th>\n",
       "      <th></th>\n",
       "      <th></th>\n",
       "      <th></th>\n",
       "      <th></th>\n",
       "      <th></th>\n",
       "      <th></th>\n",
       "      <th></th>\n",
       "      <th></th>\n",
       "      <th></th>\n",
       "      <th></th>\n",
       "    </tr>\n",
       "  </thead>\n",
       "  <tbody>\n",
       "    <tr>\n",
       "      <th>842302</th>\n",
       "      <td>M</td>\n",
       "      <td>17.99</td>\n",
       "      <td>10.38</td>\n",
       "      <td>122.80</td>\n",
       "      <td>1001.0</td>\n",
       "      <td>0.11840</td>\n",
       "      <td>0.27760</td>\n",
       "      <td>0.3001</td>\n",
       "      <td>0.14710</td>\n",
       "      <td>0.2419</td>\n",
       "      <td>...</td>\n",
       "      <td>17.33</td>\n",
       "      <td>184.60</td>\n",
       "      <td>2019.0</td>\n",
       "      <td>0.1622</td>\n",
       "      <td>0.6656</td>\n",
       "      <td>0.7119</td>\n",
       "      <td>0.2654</td>\n",
       "      <td>0.4601</td>\n",
       "      <td>0.11890</td>\n",
       "      <td>NaN</td>\n",
       "    </tr>\n",
       "    <tr>\n",
       "      <th>842517</th>\n",
       "      <td>M</td>\n",
       "      <td>20.57</td>\n",
       "      <td>17.77</td>\n",
       "      <td>132.90</td>\n",
       "      <td>1326.0</td>\n",
       "      <td>0.08474</td>\n",
       "      <td>0.07864</td>\n",
       "      <td>0.0869</td>\n",
       "      <td>0.07017</td>\n",
       "      <td>0.1812</td>\n",
       "      <td>...</td>\n",
       "      <td>23.41</td>\n",
       "      <td>158.80</td>\n",
       "      <td>1956.0</td>\n",
       "      <td>0.1238</td>\n",
       "      <td>0.1866</td>\n",
       "      <td>0.2416</td>\n",
       "      <td>0.1860</td>\n",
       "      <td>0.2750</td>\n",
       "      <td>0.08902</td>\n",
       "      <td>NaN</td>\n",
       "    </tr>\n",
       "    <tr>\n",
       "      <th>84300903</th>\n",
       "      <td>M</td>\n",
       "      <td>19.69</td>\n",
       "      <td>21.25</td>\n",
       "      <td>130.00</td>\n",
       "      <td>1203.0</td>\n",
       "      <td>0.10960</td>\n",
       "      <td>0.15990</td>\n",
       "      <td>0.1974</td>\n",
       "      <td>0.12790</td>\n",
       "      <td>0.2069</td>\n",
       "      <td>...</td>\n",
       "      <td>25.53</td>\n",
       "      <td>152.50</td>\n",
       "      <td>1709.0</td>\n",
       "      <td>0.1444</td>\n",
       "      <td>0.4245</td>\n",
       "      <td>0.4504</td>\n",
       "      <td>0.2430</td>\n",
       "      <td>0.3613</td>\n",
       "      <td>0.08758</td>\n",
       "      <td>NaN</td>\n",
       "    </tr>\n",
       "    <tr>\n",
       "      <th>84348301</th>\n",
       "      <td>M</td>\n",
       "      <td>11.42</td>\n",
       "      <td>20.38</td>\n",
       "      <td>77.58</td>\n",
       "      <td>386.1</td>\n",
       "      <td>0.14250</td>\n",
       "      <td>0.28390</td>\n",
       "      <td>0.2414</td>\n",
       "      <td>0.10520</td>\n",
       "      <td>0.2597</td>\n",
       "      <td>...</td>\n",
       "      <td>26.50</td>\n",
       "      <td>98.87</td>\n",
       "      <td>567.7</td>\n",
       "      <td>0.2098</td>\n",
       "      <td>0.8663</td>\n",
       "      <td>0.6869</td>\n",
       "      <td>0.2575</td>\n",
       "      <td>0.6638</td>\n",
       "      <td>0.17300</td>\n",
       "      <td>NaN</td>\n",
       "    </tr>\n",
       "    <tr>\n",
       "      <th>84358402</th>\n",
       "      <td>M</td>\n",
       "      <td>20.29</td>\n",
       "      <td>14.34</td>\n",
       "      <td>135.10</td>\n",
       "      <td>1297.0</td>\n",
       "      <td>0.10030</td>\n",
       "      <td>0.13280</td>\n",
       "      <td>0.1980</td>\n",
       "      <td>0.10430</td>\n",
       "      <td>0.1809</td>\n",
       "      <td>...</td>\n",
       "      <td>16.67</td>\n",
       "      <td>152.20</td>\n",
       "      <td>1575.0</td>\n",
       "      <td>0.1374</td>\n",
       "      <td>0.2050</td>\n",
       "      <td>0.4000</td>\n",
       "      <td>0.1625</td>\n",
       "      <td>0.2364</td>\n",
       "      <td>0.07678</td>\n",
       "      <td>NaN</td>\n",
       "    </tr>\n",
       "  </tbody>\n",
       "</table>\n",
       "<p>5 rows × 32 columns</p>\n",
       "</div>"
      ],
      "text/plain": [
       "         diagnosis  radius_mean  texture_mean  perimeter_mean  area_mean  \\\n",
       "id                                                                         \n",
       "842302           M        17.99         10.38          122.80     1001.0   \n",
       "842517           M        20.57         17.77          132.90     1326.0   \n",
       "84300903         M        19.69         21.25          130.00     1203.0   \n",
       "84348301         M        11.42         20.38           77.58      386.1   \n",
       "84358402         M        20.29         14.34          135.10     1297.0   \n",
       "\n",
       "          smoothness_mean  compactness_mean  concavity_mean  \\\n",
       "id                                                            \n",
       "842302            0.11840           0.27760          0.3001   \n",
       "842517            0.08474           0.07864          0.0869   \n",
       "84300903          0.10960           0.15990          0.1974   \n",
       "84348301          0.14250           0.28390          0.2414   \n",
       "84358402          0.10030           0.13280          0.1980   \n",
       "\n",
       "          concave points_mean  symmetry_mean  ...  texture_worst  \\\n",
       "id                                            ...                  \n",
       "842302                0.14710         0.2419  ...          17.33   \n",
       "842517                0.07017         0.1812  ...          23.41   \n",
       "84300903              0.12790         0.2069  ...          25.53   \n",
       "84348301              0.10520         0.2597  ...          26.50   \n",
       "84358402              0.10430         0.1809  ...          16.67   \n",
       "\n",
       "          perimeter_worst  area_worst  smoothness_worst  compactness_worst  \\\n",
       "id                                                                           \n",
       "842302             184.60      2019.0            0.1622             0.6656   \n",
       "842517             158.80      1956.0            0.1238             0.1866   \n",
       "84300903           152.50      1709.0            0.1444             0.4245   \n",
       "84348301            98.87       567.7            0.2098             0.8663   \n",
       "84358402           152.20      1575.0            0.1374             0.2050   \n",
       "\n",
       "          concavity_worst  concave points_worst  symmetry_worst  \\\n",
       "id                                                                \n",
       "842302             0.7119                0.2654          0.4601   \n",
       "842517             0.2416                0.1860          0.2750   \n",
       "84300903           0.4504                0.2430          0.3613   \n",
       "84348301           0.6869                0.2575          0.6638   \n",
       "84358402           0.4000                0.1625          0.2364   \n",
       "\n",
       "          fractal_dimension_worst  Unnamed: 32  \n",
       "id                                              \n",
       "842302                    0.11890          NaN  \n",
       "842517                    0.08902          NaN  \n",
       "84300903                  0.08758          NaN  \n",
       "84348301                  0.17300          NaN  \n",
       "84358402                  0.07678          NaN  \n",
       "\n",
       "[5 rows x 32 columns]"
      ]
     },
     "execution_count": 3,
     "metadata": {},
     "output_type": "execute_result"
    }
   ],
   "source": [
    "df = pd.read_csv('data.csv', index_col=0)\n",
    "df.head()"
   ]
  },
  {
   "cell_type": "markdown",
   "id": "888dc061",
   "metadata": {
    "_cell_guid": "175cd422-5cba-42de-95db-61746caffd4f",
    "_uuid": "08b46e9495442b7ea346ce9862e3b0f4ea60e8be",
    "papermill": {
     "duration": 0.009951,
     "end_time": "2023-12-07T19:52:37.211117",
     "exception": false,
     "start_time": "2023-12-07T19:52:37.201166",
     "status": "completed"
    },
    "tags": []
   },
   "source": [
    "Last column **Unnamed: 32** appears to have many missing values. We will also check other columns for missing values"
   ]
  },
  {
   "cell_type": "code",
   "execution_count": 4,
   "id": "209f350a",
   "metadata": {
    "_cell_guid": "b9a68601-5b5e-4e77-920d-f98e61b8505c",
    "_uuid": "acea2d29a01413419f5add3309727781e10da197",
    "execution": {
     "iopub.execute_input": "2023-12-07T19:52:37.239123Z",
     "iopub.status.busy": "2023-12-07T19:52:37.238018Z",
     "iopub.status.idle": "2023-12-07T19:52:37.269402Z",
     "shell.execute_reply": "2023-12-07T19:52:37.268045Z"
    },
    "papermill": {
     "duration": 0.05097,
     "end_time": "2023-12-07T19:52:37.272364",
     "exception": false,
     "start_time": "2023-12-07T19:52:37.221394",
     "status": "completed"
    },
    "scrolled": true,
    "tags": []
   },
   "outputs": [
    {
     "name": "stdout",
     "output_type": "stream",
     "text": [
      "<class 'pandas.core.frame.DataFrame'>\n",
      "Index: 569 entries, 842302 to 92751\n",
      "Data columns (total 32 columns):\n",
      " #   Column                   Non-Null Count  Dtype  \n",
      "---  ------                   --------------  -----  \n",
      " 0   diagnosis                569 non-null    object \n",
      " 1   radius_mean              569 non-null    float64\n",
      " 2   texture_mean             569 non-null    float64\n",
      " 3   perimeter_mean           569 non-null    float64\n",
      " 4   area_mean                569 non-null    float64\n",
      " 5   smoothness_mean          569 non-null    float64\n",
      " 6   compactness_mean         569 non-null    float64\n",
      " 7   concavity_mean           569 non-null    float64\n",
      " 8   concave points_mean      569 non-null    float64\n",
      " 9   symmetry_mean            569 non-null    float64\n",
      " 10  fractal_dimension_mean   569 non-null    float64\n",
      " 11  radius_se                569 non-null    float64\n",
      " 12  texture_se               569 non-null    float64\n",
      " 13  perimeter_se             569 non-null    float64\n",
      " 14  area_se                  569 non-null    float64\n",
      " 15  smoothness_se            569 non-null    float64\n",
      " 16  compactness_se           569 non-null    float64\n",
      " 17  concavity_se             569 non-null    float64\n",
      " 18  concave points_se        569 non-null    float64\n",
      " 19  symmetry_se              569 non-null    float64\n",
      " 20  fractal_dimension_se     569 non-null    float64\n",
      " 21  radius_worst             569 non-null    float64\n",
      " 22  texture_worst            569 non-null    float64\n",
      " 23  perimeter_worst          569 non-null    float64\n",
      " 24  area_worst               569 non-null    float64\n",
      " 25  smoothness_worst         569 non-null    float64\n",
      " 26  compactness_worst        569 non-null    float64\n",
      " 27  concavity_worst          569 non-null    float64\n",
      " 28  concave points_worst     569 non-null    float64\n",
      " 29  symmetry_worst           569 non-null    float64\n",
      " 30  fractal_dimension_worst  569 non-null    float64\n",
      " 31  Unnamed: 32              0 non-null      float64\n",
      "dtypes: float64(31), object(1)\n",
      "memory usage: 146.7+ KB\n"
     ]
    }
   ],
   "source": [
    "df.info()"
   ]
  },
  {
   "cell_type": "markdown",
   "id": "f969c6f5",
   "metadata": {
    "_cell_guid": "70cdb909-0a62-4114-99b9-d177b46c18fa",
    "_uuid": "283eb644ecf5581cb6c99baae6fd29c5e0444fd0",
    "papermill": {
     "duration": 0.010962,
     "end_time": "2023-12-07T19:52:37.293674",
     "exception": false,
     "start_time": "2023-12-07T19:52:37.282712",
     "status": "completed"
    },
    "tags": []
   },
   "source": [
    "With the exception of the **Unnamed: 32** column, which is filled with missing values, it looks that our dataset is free of missing values. Now let's remove this specific column totally. After that, we'll examine each column's data type.\n"
   ]
  },
  {
   "cell_type": "code",
   "execution_count": 5,
   "id": "c9649fd8",
   "metadata": {
    "_cell_guid": "4ba0851a-2cec-40fd-a0db-839f21b9fa62",
    "_kg_hide-output": true,
    "_uuid": "ac927ab4bbe80cc713a78109c725dbd67f81d342",
    "execution": {
     "iopub.execute_input": "2023-12-07T19:52:37.318159Z",
     "iopub.status.busy": "2023-12-07T19:52:37.317744Z",
     "iopub.status.idle": "2023-12-07T19:52:37.323776Z",
     "shell.execute_reply": "2023-12-07T19:52:37.322517Z"
    },
    "papermill": {
     "duration": 0.020339,
     "end_time": "2023-12-07T19:52:37.326147",
     "exception": false,
     "start_time": "2023-12-07T19:52:37.305808",
     "status": "completed"
    },
    "tags": []
   },
   "outputs": [],
   "source": [
    "df = df.drop('Unnamed: 32', axis=1)"
   ]
  },
  {
   "cell_type": "markdown",
   "id": "0b8745bf",
   "metadata": {
    "papermill": {
     "duration": 0.009879,
     "end_time": "2023-12-07T19:52:37.346371",
     "exception": false,
     "start_time": "2023-12-07T19:52:37.336492",
     "status": "completed"
    },
    "tags": []
   },
   "source": [
    "Confirming all the data types"
   ]
  },
  {
   "cell_type": "code",
   "execution_count": 6,
   "id": "5c00ad14",
   "metadata": {
    "_cell_guid": "80228e6c-863f-4205-b9c5-824f60cfc422",
    "_uuid": "9989c1a33c5b687d1d33ea6d7f4246f752278de7",
    "execution": {
     "iopub.execute_input": "2023-12-07T19:52:37.369178Z",
     "iopub.status.busy": "2023-12-07T19:52:37.368720Z",
     "iopub.status.idle": "2023-12-07T19:52:37.378696Z",
     "shell.execute_reply": "2023-12-07T19:52:37.377499Z"
    },
    "papermill": {
     "duration": 0.02458,
     "end_time": "2023-12-07T19:52:37.381288",
     "exception": false,
     "start_time": "2023-12-07T19:52:37.356708",
     "status": "completed"
    },
    "scrolled": true,
    "tags": []
   },
   "outputs": [
    {
     "data": {
      "text/plain": [
       "diagnosis                   object\n",
       "radius_mean                float64\n",
       "texture_mean               float64\n",
       "perimeter_mean             float64\n",
       "area_mean                  float64\n",
       "smoothness_mean            float64\n",
       "compactness_mean           float64\n",
       "concavity_mean             float64\n",
       "concave points_mean        float64\n",
       "symmetry_mean              float64\n",
       "fractal_dimension_mean     float64\n",
       "radius_se                  float64\n",
       "texture_se                 float64\n",
       "perimeter_se               float64\n",
       "area_se                    float64\n",
       "smoothness_se              float64\n",
       "compactness_se             float64\n",
       "concavity_se               float64\n",
       "concave points_se          float64\n",
       "symmetry_se                float64\n",
       "fractal_dimension_se       float64\n",
       "radius_worst               float64\n",
       "texture_worst              float64\n",
       "perimeter_worst            float64\n",
       "area_worst                 float64\n",
       "smoothness_worst           float64\n",
       "compactness_worst          float64\n",
       "concavity_worst            float64\n",
       "concave points_worst       float64\n",
       "symmetry_worst             float64\n",
       "fractal_dimension_worst    float64\n",
       "dtype: object"
      ]
     },
     "execution_count": 6,
     "metadata": {},
     "output_type": "execute_result"
    }
   ],
   "source": [
    "df.dtypes"
   ]
  },
  {
   "cell_type": "markdown",
   "id": "2d24a9fb",
   "metadata": {
    "_cell_guid": "724cdad7-4ffe-467b-a90a-2a7b6aa7ba02",
    "_uuid": "3db99e254faa194ec6c51d09671bb8a14b520e95",
    "papermill": {
     "duration": 0.010761,
     "end_time": "2023-12-07T19:52:37.402841",
     "exception": false,
     "start_time": "2023-12-07T19:52:37.392080",
     "status": "completed"
    },
    "tags": []
   },
   "source": [
    "There are two classes for the variable \"diagnosis\": \"B\" for benign and \"M\" for malignant. Since they are numerical, other variables don't require type conversion. First, let's look at the 'diagnostic' class distribution."
   ]
  },
  {
   "cell_type": "code",
   "execution_count": 17,
   "id": "e7bb8239",
   "metadata": {
    "execution": {
     "iopub.execute_input": "2023-12-07T19:52:37.425737Z",
     "iopub.status.busy": "2023-12-07T19:52:37.425350Z",
     "iopub.status.idle": "2023-12-07T19:52:39.375735Z",
     "shell.execute_reply": "2023-12-07T19:52:39.374511Z"
    },
    "papermill": {
     "duration": 1.96656,
     "end_time": "2023-12-07T19:52:39.379850",
     "exception": false,
     "start_time": "2023-12-07T19:52:37.413290",
     "status": "completed"
    },
    "tags": []
   },
   "outputs": [
    {
     "data": {
      "application/vnd.plotly.v1+json": {
       "config": {
        "plotlyServerURL": "https://plot.ly"
       },
       "data": [
        {
         "customdata": [
          [
           "B"
          ],
          [
           "M"
          ]
         ],
         "domain": {
          "x": [
           0,
           1
          ],
          "y": [
           0,
           1
          ]
         },
         "hovertemplate": "diagnosis=%{customdata[0]}<br>value=%{value}<extra></extra>",
         "labels": [
          "B",
          "M"
         ],
         "legendgroup": "",
         "marker": {
          "colors": [
           "#00cc96",
           "#ab63fa"
          ]
         },
         "name": "",
         "pull": [
          0.1,
          0
         ],
         "showlegend": true,
         "textinfo": "percent+label",
         "type": "pie",
         "values": [
          357,
          212
         ]
        }
       ],
       "layout": {
        "legend": {
         "orientation": "h",
         "title": {
          "text": "Diagnosis"
         },
         "tracegroupgap": 0,
         "x": 0.5,
         "xanchor": "center",
         "y": 1,
         "yanchor": "bottom"
        },
        "margin": {
         "b": 0,
         "l": 0,
         "r": 0,
         "t": 50
        },
        "template": {
         "data": {
          "bar": [
           {
            "error_x": {
             "color": "#2a3f5f"
            },
            "error_y": {
             "color": "#2a3f5f"
            },
            "marker": {
             "line": {
              "color": "#E5ECF6",
              "width": 0.5
             },
             "pattern": {
              "fillmode": "overlay",
              "size": 10,
              "solidity": 0.2
             }
            },
            "type": "bar"
           }
          ],
          "barpolar": [
           {
            "marker": {
             "line": {
              "color": "#E5ECF6",
              "width": 0.5
             },
             "pattern": {
              "fillmode": "overlay",
              "size": 10,
              "solidity": 0.2
             }
            },
            "type": "barpolar"
           }
          ],
          "carpet": [
           {
            "aaxis": {
             "endlinecolor": "#2a3f5f",
             "gridcolor": "white",
             "linecolor": "white",
             "minorgridcolor": "white",
             "startlinecolor": "#2a3f5f"
            },
            "baxis": {
             "endlinecolor": "#2a3f5f",
             "gridcolor": "white",
             "linecolor": "white",
             "minorgridcolor": "white",
             "startlinecolor": "#2a3f5f"
            },
            "type": "carpet"
           }
          ],
          "choropleth": [
           {
            "colorbar": {
             "outlinewidth": 0,
             "ticks": ""
            },
            "type": "choropleth"
           }
          ],
          "contour": [
           {
            "colorbar": {
             "outlinewidth": 0,
             "ticks": ""
            },
            "colorscale": [
             [
              0,
              "#0d0887"
             ],
             [
              0.1111111111111111,
              "#46039f"
             ],
             [
              0.2222222222222222,
              "#7201a8"
             ],
             [
              0.3333333333333333,
              "#9c179e"
             ],
             [
              0.4444444444444444,
              "#bd3786"
             ],
             [
              0.5555555555555556,
              "#d8576b"
             ],
             [
              0.6666666666666666,
              "#ed7953"
             ],
             [
              0.7777777777777778,
              "#fb9f3a"
             ],
             [
              0.8888888888888888,
              "#fdca26"
             ],
             [
              1,
              "#f0f921"
             ]
            ],
            "type": "contour"
           }
          ],
          "contourcarpet": [
           {
            "colorbar": {
             "outlinewidth": 0,
             "ticks": ""
            },
            "type": "contourcarpet"
           }
          ],
          "heatmap": [
           {
            "colorbar": {
             "outlinewidth": 0,
             "ticks": ""
            },
            "colorscale": [
             [
              0,
              "#0d0887"
             ],
             [
              0.1111111111111111,
              "#46039f"
             ],
             [
              0.2222222222222222,
              "#7201a8"
             ],
             [
              0.3333333333333333,
              "#9c179e"
             ],
             [
              0.4444444444444444,
              "#bd3786"
             ],
             [
              0.5555555555555556,
              "#d8576b"
             ],
             [
              0.6666666666666666,
              "#ed7953"
             ],
             [
              0.7777777777777778,
              "#fb9f3a"
             ],
             [
              0.8888888888888888,
              "#fdca26"
             ],
             [
              1,
              "#f0f921"
             ]
            ],
            "type": "heatmap"
           }
          ],
          "heatmapgl": [
           {
            "colorbar": {
             "outlinewidth": 0,
             "ticks": ""
            },
            "colorscale": [
             [
              0,
              "#0d0887"
             ],
             [
              0.1111111111111111,
              "#46039f"
             ],
             [
              0.2222222222222222,
              "#7201a8"
             ],
             [
              0.3333333333333333,
              "#9c179e"
             ],
             [
              0.4444444444444444,
              "#bd3786"
             ],
             [
              0.5555555555555556,
              "#d8576b"
             ],
             [
              0.6666666666666666,
              "#ed7953"
             ],
             [
              0.7777777777777778,
              "#fb9f3a"
             ],
             [
              0.8888888888888888,
              "#fdca26"
             ],
             [
              1,
              "#f0f921"
             ]
            ],
            "type": "heatmapgl"
           }
          ],
          "histogram": [
           {
            "marker": {
             "pattern": {
              "fillmode": "overlay",
              "size": 10,
              "solidity": 0.2
             }
            },
            "type": "histogram"
           }
          ],
          "histogram2d": [
           {
            "colorbar": {
             "outlinewidth": 0,
             "ticks": ""
            },
            "colorscale": [
             [
              0,
              "#0d0887"
             ],
             [
              0.1111111111111111,
              "#46039f"
             ],
             [
              0.2222222222222222,
              "#7201a8"
             ],
             [
              0.3333333333333333,
              "#9c179e"
             ],
             [
              0.4444444444444444,
              "#bd3786"
             ],
             [
              0.5555555555555556,
              "#d8576b"
             ],
             [
              0.6666666666666666,
              "#ed7953"
             ],
             [
              0.7777777777777778,
              "#fb9f3a"
             ],
             [
              0.8888888888888888,
              "#fdca26"
             ],
             [
              1,
              "#f0f921"
             ]
            ],
            "type": "histogram2d"
           }
          ],
          "histogram2dcontour": [
           {
            "colorbar": {
             "outlinewidth": 0,
             "ticks": ""
            },
            "colorscale": [
             [
              0,
              "#0d0887"
             ],
             [
              0.1111111111111111,
              "#46039f"
             ],
             [
              0.2222222222222222,
              "#7201a8"
             ],
             [
              0.3333333333333333,
              "#9c179e"
             ],
             [
              0.4444444444444444,
              "#bd3786"
             ],
             [
              0.5555555555555556,
              "#d8576b"
             ],
             [
              0.6666666666666666,
              "#ed7953"
             ],
             [
              0.7777777777777778,
              "#fb9f3a"
             ],
             [
              0.8888888888888888,
              "#fdca26"
             ],
             [
              1,
              "#f0f921"
             ]
            ],
            "type": "histogram2dcontour"
           }
          ],
          "mesh3d": [
           {
            "colorbar": {
             "outlinewidth": 0,
             "ticks": ""
            },
            "type": "mesh3d"
           }
          ],
          "parcoords": [
           {
            "line": {
             "colorbar": {
              "outlinewidth": 0,
              "ticks": ""
             }
            },
            "type": "parcoords"
           }
          ],
          "pie": [
           {
            "automargin": true,
            "type": "pie"
           }
          ],
          "scatter": [
           {
            "fillpattern": {
             "fillmode": "overlay",
             "size": 10,
             "solidity": 0.2
            },
            "type": "scatter"
           }
          ],
          "scatter3d": [
           {
            "line": {
             "colorbar": {
              "outlinewidth": 0,
              "ticks": ""
             }
            },
            "marker": {
             "colorbar": {
              "outlinewidth": 0,
              "ticks": ""
             }
            },
            "type": "scatter3d"
           }
          ],
          "scattercarpet": [
           {
            "marker": {
             "colorbar": {
              "outlinewidth": 0,
              "ticks": ""
             }
            },
            "type": "scattercarpet"
           }
          ],
          "scattergeo": [
           {
            "marker": {
             "colorbar": {
              "outlinewidth": 0,
              "ticks": ""
             }
            },
            "type": "scattergeo"
           }
          ],
          "scattergl": [
           {
            "marker": {
             "colorbar": {
              "outlinewidth": 0,
              "ticks": ""
             }
            },
            "type": "scattergl"
           }
          ],
          "scattermapbox": [
           {
            "marker": {
             "colorbar": {
              "outlinewidth": 0,
              "ticks": ""
             }
            },
            "type": "scattermapbox"
           }
          ],
          "scatterpolar": [
           {
            "marker": {
             "colorbar": {
              "outlinewidth": 0,
              "ticks": ""
             }
            },
            "type": "scatterpolar"
           }
          ],
          "scatterpolargl": [
           {
            "marker": {
             "colorbar": {
              "outlinewidth": 0,
              "ticks": ""
             }
            },
            "type": "scatterpolargl"
           }
          ],
          "scatterternary": [
           {
            "marker": {
             "colorbar": {
              "outlinewidth": 0,
              "ticks": ""
             }
            },
            "type": "scatterternary"
           }
          ],
          "surface": [
           {
            "colorbar": {
             "outlinewidth": 0,
             "ticks": ""
            },
            "colorscale": [
             [
              0,
              "#0d0887"
             ],
             [
              0.1111111111111111,
              "#46039f"
             ],
             [
              0.2222222222222222,
              "#7201a8"
             ],
             [
              0.3333333333333333,
              "#9c179e"
             ],
             [
              0.4444444444444444,
              "#bd3786"
             ],
             [
              0.5555555555555556,
              "#d8576b"
             ],
             [
              0.6666666666666666,
              "#ed7953"
             ],
             [
              0.7777777777777778,
              "#fb9f3a"
             ],
             [
              0.8888888888888888,
              "#fdca26"
             ],
             [
              1,
              "#f0f921"
             ]
            ],
            "type": "surface"
           }
          ],
          "table": [
           {
            "cells": {
             "fill": {
              "color": "#EBF0F8"
             },
             "line": {
              "color": "white"
             }
            },
            "header": {
             "fill": {
              "color": "#C8D4E3"
             },
             "line": {
              "color": "white"
             }
            },
            "type": "table"
           }
          ]
         },
         "layout": {
          "annotationdefaults": {
           "arrowcolor": "#2a3f5f",
           "arrowhead": 0,
           "arrowwidth": 1
          },
          "autotypenumbers": "strict",
          "coloraxis": {
           "colorbar": {
            "outlinewidth": 0,
            "ticks": ""
           }
          },
          "colorscale": {
           "diverging": [
            [
             0,
             "#8e0152"
            ],
            [
             0.1,
             "#c51b7d"
            ],
            [
             0.2,
             "#de77ae"
            ],
            [
             0.3,
             "#f1b6da"
            ],
            [
             0.4,
             "#fde0ef"
            ],
            [
             0.5,
             "#f7f7f7"
            ],
            [
             0.6,
             "#e6f5d0"
            ],
            [
             0.7,
             "#b8e186"
            ],
            [
             0.8,
             "#7fbc41"
            ],
            [
             0.9,
             "#4d9221"
            ],
            [
             1,
             "#276419"
            ]
           ],
           "sequential": [
            [
             0,
             "#0d0887"
            ],
            [
             0.1111111111111111,
             "#46039f"
            ],
            [
             0.2222222222222222,
             "#7201a8"
            ],
            [
             0.3333333333333333,
             "#9c179e"
            ],
            [
             0.4444444444444444,
             "#bd3786"
            ],
            [
             0.5555555555555556,
             "#d8576b"
            ],
            [
             0.6666666666666666,
             "#ed7953"
            ],
            [
             0.7777777777777778,
             "#fb9f3a"
            ],
            [
             0.8888888888888888,
             "#fdca26"
            ],
            [
             1,
             "#f0f921"
            ]
           ],
           "sequentialminus": [
            [
             0,
             "#0d0887"
            ],
            [
             0.1111111111111111,
             "#46039f"
            ],
            [
             0.2222222222222222,
             "#7201a8"
            ],
            [
             0.3333333333333333,
             "#9c179e"
            ],
            [
             0.4444444444444444,
             "#bd3786"
            ],
            [
             0.5555555555555556,
             "#d8576b"
            ],
            [
             0.6666666666666666,
             "#ed7953"
            ],
            [
             0.7777777777777778,
             "#fb9f3a"
            ],
            [
             0.8888888888888888,
             "#fdca26"
            ],
            [
             1,
             "#f0f921"
            ]
           ]
          },
          "colorway": [
           "#636efa",
           "#EF553B",
           "#00cc96",
           "#ab63fa",
           "#FFA15A",
           "#19d3f3",
           "#FF6692",
           "#B6E880",
           "#FF97FF",
           "#FECB52"
          ],
          "font": {
           "color": "#2a3f5f"
          },
          "geo": {
           "bgcolor": "white",
           "lakecolor": "white",
           "landcolor": "#E5ECF6",
           "showlakes": true,
           "showland": true,
           "subunitcolor": "white"
          },
          "hoverlabel": {
           "align": "left"
          },
          "hovermode": "closest",
          "mapbox": {
           "style": "light"
          },
          "paper_bgcolor": "white",
          "plot_bgcolor": "#E5ECF6",
          "polar": {
           "angularaxis": {
            "gridcolor": "white",
            "linecolor": "white",
            "ticks": ""
           },
           "bgcolor": "#E5ECF6",
           "radialaxis": {
            "gridcolor": "white",
            "linecolor": "white",
            "ticks": ""
           }
          },
          "scene": {
           "xaxis": {
            "backgroundcolor": "#E5ECF6",
            "gridcolor": "white",
            "gridwidth": 2,
            "linecolor": "white",
            "showbackground": true,
            "ticks": "",
            "zerolinecolor": "white"
           },
           "yaxis": {
            "backgroundcolor": "#E5ECF6",
            "gridcolor": "white",
            "gridwidth": 2,
            "linecolor": "white",
            "showbackground": true,
            "ticks": "",
            "zerolinecolor": "white"
           },
           "zaxis": {
            "backgroundcolor": "#E5ECF6",
            "gridcolor": "white",
            "gridwidth": 2,
            "linecolor": "white",
            "showbackground": true,
            "ticks": "",
            "zerolinecolor": "white"
           }
          },
          "shapedefaults": {
           "line": {
            "color": "#2a3f5f"
           }
          },
          "ternary": {
           "aaxis": {
            "gridcolor": "white",
            "linecolor": "white",
            "ticks": ""
           },
           "baxis": {
            "gridcolor": "white",
            "linecolor": "white",
            "ticks": ""
           },
           "bgcolor": "#E5ECF6",
           "caxis": {
            "gridcolor": "white",
            "linecolor": "white",
            "ticks": ""
           }
          },
          "title": {
           "x": 0.05
          },
          "xaxis": {
           "automargin": true,
           "gridcolor": "white",
           "linecolor": "white",
           "ticks": "",
           "title": {
            "standoff": 15
           },
           "zerolinecolor": "white",
           "zerolinewidth": 2
          },
          "yaxis": {
           "automargin": true,
           "gridcolor": "white",
           "linecolor": "white",
           "ticks": "",
           "title": {
            "standoff": 15
           },
           "zerolinecolor": "white",
           "zerolinewidth": 2
          }
         }
        },
        "title": {
         "text": "Distribution of Diagnosis"
        }
       }
      }
     },
     "metadata": {},
     "output_type": "display_data"
    },
    {
     "name": "stdout",
     "output_type": "stream",
     "text": [
      "Count of cells labeled as Benign:  357\n",
      "Count of cells labeled as Malignant:  212\n",
      "\n",
      "Percentage of cells labeled Benign:  62.74 %\n",
      "Percentage of cells labeled Malignant:  37.26 %\n"
     ]
    }
   ],
   "source": [
    "# Visualizing class distribution\n",
    "class_counts = df['diagnosis'].value_counts()\n",
    "\n",
    "# Creating a pie chart using Plotly\n",
    "fig = px.pie(\n",
    "    class_counts,\n",
    "    values=class_counts.values,\n",
    "    names=class_counts.index,\n",
    "    labels=class_counts.index,\n",
    "    title='Distribution of Diagnosis',\n",
    "    color=class_counts.index,  # Assign colors to different classes\n",
    "    color_discrete_map={'Benign': '#FF9999', 'Malignant': '#66B2FF'},\n",
    ")\n",
    "\n",
    "# Making th layout look better\n",
    "fig.update_traces(textinfo='percent+label', pull=[0.1, 0])  # Pull first slice slightly\n",
    "fig.update_layout(\n",
    "    margin=dict(l=0, r=0, b=0, t=50),\n",
    "    legend=dict(title='Diagnosis', orientation='h', y=1, yanchor='bottom', x=0.5, xanchor='center'),\n",
    ")\n",
    "\n",
    "# showing the interactive plot\n",
    "fig.show()\n",
    "\n",
    "# Counting observations in each class\n",
    "benign_count, malignant_count = df['diagnosis'].value_counts()\n",
    "print('Count of cells labeled as Benign: ', benign_count)\n",
    "print('Count of cells labeled as Malignant: ', malignant_count)\n",
    "print('')\n",
    "print('Percentage of cells labeled Benign: ', round(benign_count / len(df) * 100, 2), '%')\n",
    "print('Percentage of cells labeled Malignant: ', round(malignant_count / len(df) * 100, 2), '%')"
   ]
  },
  {
   "cell_type": "markdown",
   "id": "9de97dd4",
   "metadata": {
    "_cell_guid": "95817caf-80c5-4256-ae93-1bc49a950b37",
    "_uuid": "2845c759a3614827bcd07417a57a601ebb6b32d8",
    "papermill": {
     "duration": 0.010693,
     "end_time": "2023-12-07T19:52:39.401834",
     "exception": false,
     "start_time": "2023-12-07T19:52:39.391141",
     "status": "completed"
    },
    "tags": []
   },
   "source": [
    "Out of 569 entries, 357 (62.7%) are malignant while 212 (37.3%) are benign. We expect a similar label distribution for new data. "
   ]
  },
  {
   "cell_type": "markdown",
   "id": "d6774c36",
   "metadata": {
    "papermill": {
     "duration": 0.010752,
     "end_time": "2023-12-07T19:52:39.423586",
     "exception": false,
     "start_time": "2023-12-07T19:52:39.412834",
     "status": "completed"
    },
    "tags": []
   },
   "source": [
    "We will now clean the data for further processing"
   ]
  },
  {
   "cell_type": "code",
   "execution_count": 8,
   "id": "5a2607ca",
   "metadata": {
    "_cell_guid": "156ff174-a585-4eb6-9fbd-0c5861a6f439",
    "_uuid": "bac27000a23c99672fda30b7296c09fd3d67408e",
    "execution": {
     "iopub.execute_input": "2023-12-07T19:52:39.447688Z",
     "iopub.status.busy": "2023-12-07T19:52:39.447298Z",
     "iopub.status.idle": "2023-12-07T19:52:39.457539Z",
     "shell.execute_reply": "2023-12-07T19:52:39.456374Z"
    },
    "papermill": {
     "duration": 0.025013,
     "end_time": "2023-12-07T19:52:39.459989",
     "exception": false,
     "start_time": "2023-12-07T19:52:39.434976",
     "status": "completed"
    },
    "tags": []
   },
   "outputs": [],
   "source": [
    "# Drop columns associated with \"worst\" attributes\n",
    "worst_cols = ['radius_worst', 'texture_worst', 'perimeter_worst', 'area_worst', 'smoothness_worst', \n",
    "              'compactness_worst', 'concavity_worst', 'concave points_worst', 'symmetry_worst', \n",
    "              'fractal_dimension_worst']\n",
    "df = df.drop(worst_cols, axis=1)\n",
    "\n",
    "# Remove columns linked to \"perimeter\" and \"area\" attributes\n",
    "perimeter_area_cols = ['perimeter_mean', 'perimeter_se', 'area_mean', 'area_se']\n",
    "df = df.drop(perimeter_area_cols, axis=1)\n",
    "\n",
    "# Eliminate columns related to \"concavity\" and \"concave points\" attributes\n",
    "concavity_cols = ['concavity_mean', 'concavity_se', 'concave points_mean', 'concave points_se']\n",
    "df = df.drop(concavity_cols, axis=1)\n",
    "\n"
   ]
  },
  {
   "cell_type": "markdown",
   "id": "4c7be78c",
   "metadata": {
    "papermill": {
     "duration": 0.010826,
     "end_time": "2023-12-07T19:52:39.482138",
     "exception": false,
     "start_time": "2023-12-07T19:52:39.471312",
     "status": "completed"
    },
    "tags": []
   },
   "source": [
    "Now, we will confirm what all columns are left"
   ]
  },
  {
   "cell_type": "code",
   "execution_count": 9,
   "id": "0f3101a3",
   "metadata": {
    "execution": {
     "iopub.execute_input": "2023-12-07T19:52:39.506397Z",
     "iopub.status.busy": "2023-12-07T19:52:39.505669Z",
     "iopub.status.idle": "2023-12-07T19:52:39.513339Z",
     "shell.execute_reply": "2023-12-07T19:52:39.512158Z"
    },
    "papermill": {
     "duration": 0.0225,
     "end_time": "2023-12-07T19:52:39.515787",
     "exception": false,
     "start_time": "2023-12-07T19:52:39.493287",
     "status": "completed"
    },
    "tags": []
   },
   "outputs": [
    {
     "data": {
      "text/plain": [
       "Index(['diagnosis', 'radius_mean', 'texture_mean', 'smoothness_mean',\n",
       "       'compactness_mean', 'symmetry_mean', 'fractal_dimension_mean',\n",
       "       'radius_se', 'texture_se', 'smoothness_se', 'compactness_se',\n",
       "       'symmetry_se', 'fractal_dimension_se'],\n",
       "      dtype='object')"
      ]
     },
     "execution_count": 9,
     "metadata": {},
     "output_type": "execute_result"
    }
   ],
   "source": [
    "df.columns\n"
   ]
  },
  {
   "cell_type": "markdown",
   "id": "914def26",
   "metadata": {
    "_cell_guid": "ea6a87e7-5192-4f3d-87ec-566e74b95c52",
    "_uuid": "fbc5ac65c21f0b0a7983bddfcc29c8ff7d4a325d",
    "papermill": {
     "duration": 0.010835,
     "end_time": "2023-12-07T19:52:39.537990",
     "exception": false,
     "start_time": "2023-12-07T19:52:39.527155",
     "status": "completed"
    },
    "tags": []
   },
   "source": [
    "# Building the Model\n",
    "We will first split the dataset into train and testing split (70-30 distribution respectively)"
   ]
  },
  {
   "cell_type": "code",
   "execution_count": 10,
   "id": "6825fe03",
   "metadata": {
    "_cell_guid": "81c5e78d-c9e4-4909-9470-88fbbccafa32",
    "_uuid": "28b92554ae77ea3283734acdc12e6944bae8d9ef",
    "execution": {
     "iopub.execute_input": "2023-12-07T19:52:39.562645Z",
     "iopub.status.busy": "2023-12-07T19:52:39.562277Z",
     "iopub.status.idle": "2023-12-07T19:52:39.570012Z",
     "shell.execute_reply": "2023-12-07T19:52:39.568794Z"
    },
    "papermill": {
     "duration": 0.023067,
     "end_time": "2023-12-07T19:52:39.572433",
     "exception": false,
     "start_time": "2023-12-07T19:52:39.549366",
     "status": "completed"
    },
    "tags": []
   },
   "outputs": [],
   "source": [
    "X = df\n",
    "y = df['diagnosis']\n",
    "\n",
    "X_train, X_test, y_train, y_test = train_test_split(X, y, test_size=0.3, random_state=40)"
   ]
  },
  {
   "cell_type": "markdown",
   "id": "c9d78b49",
   "metadata": {
    "_cell_guid": "9450c803-b233-4cfb-ab2b-1a8a0275d636",
    "_uuid": "858b842d2a95ba099241c04c9f6c22d1f95b9814",
    "papermill": {
     "duration": 0.011039,
     "end_time": "2023-12-07T19:52:39.594963",
     "exception": false,
     "start_time": "2023-12-07T19:52:39.583924",
     "status": "completed"
    },
    "tags": []
   },
   "source": [
    "Now that we have split our data into appropriate sets, let's write down the formula to be used for the `logistic regression`."
   ]
  },
  {
   "cell_type": "code",
   "execution_count": 11,
   "id": "6bff43bd",
   "metadata": {
    "_cell_guid": "d5b377ee-4462-4bd7-9d51-9a6d4512bc66",
    "_uuid": "4af1f9baaee26a15b3db2259ebf3a6611431f92d",
    "execution": {
     "iopub.execute_input": "2023-12-07T19:52:39.620208Z",
     "iopub.status.busy": "2023-12-07T19:52:39.619294Z",
     "iopub.status.idle": "2023-12-07T19:52:39.627201Z",
     "shell.execute_reply": "2023-12-07T19:52:39.625637Z"
    },
    "papermill": {
     "duration": 0.023312,
     "end_time": "2023-12-07T19:52:39.629547",
     "exception": false,
     "start_time": "2023-12-07T19:52:39.606235",
     "status": "completed"
    },
    "scrolled": true,
    "tags": []
   },
   "outputs": [
    {
     "name": "stdout",
     "output_type": "stream",
     "text": [
      "diagnosis ~ radius_mean + texture_mean + smoothness_mean + compactness_mean + symmetry_mean + fractal_dimension_mean + radius_se + texture_se + smoothness_se + compactness_se + symmetry_se + fractal_dimension_se \n",
      "\n"
     ]
    }
   ],
   "source": [
    "# Create a string for the formula\n",
    "cols = df.columns.drop('diagnosis')\n",
    "formula = 'diagnosis ~ ' + ' + '.join(cols)\n",
    "print(formula, '\\n')"
   ]
  },
  {
   "cell_type": "markdown",
   "id": "7f6fdf6f",
   "metadata": {
    "_cell_guid": "7bf632a2-5111-40d3-a6f7-34adfd3f30e3",
    "_uuid": "a3094a7abf18202fd0eba832fa6213f3582f0497",
    "papermill": {
     "duration": 0.01127,
     "end_time": "2023-12-07T19:52:39.652747",
     "exception": false,
     "start_time": "2023-12-07T19:52:39.641477",
     "status": "completed"
    },
    "tags": []
   },
   "source": [
    "The formula includes all of the variables that were finally selected at the end of the previous section. We will now run the `logistic regression` with this formula and take a look at the results."
   ]
  },
  {
   "cell_type": "code",
   "execution_count": 12,
   "id": "458f9826",
   "metadata": {
    "_cell_guid": "dbe16604-b13a-4c7c-bdf2-2e3ad0977f65",
    "_uuid": "90b8731f67bb6a8155cb44c97f17c53554f92336",
    "execution": {
     "iopub.execute_input": "2023-12-07T19:52:39.677724Z",
     "iopub.status.busy": "2023-12-07T19:52:39.677333Z",
     "iopub.status.idle": "2023-12-07T19:52:39.754555Z",
     "shell.execute_reply": "2023-12-07T19:52:39.752861Z"
    },
    "papermill": {
     "duration": 0.093003,
     "end_time": "2023-12-07T19:52:39.757137",
     "exception": false,
     "start_time": "2023-12-07T19:52:39.664134",
     "status": "completed"
    },
    "tags": []
   },
   "outputs": [
    {
     "name": "stdout",
     "output_type": "stream",
     "text": [
      "                        Generalized Linear Model Regression Results                         \n",
      "============================================================================================\n",
      "Dep. Variable:     ['diagnosis[B]', 'diagnosis[M]']   No. Observations:                  398\n",
      "Model:                                          GLM   Df Residuals:                      385\n",
      "Model Family:                              Binomial   Df Model:                           12\n",
      "Link Function:                                Logit   Scale:                          1.0000\n",
      "Method:                                        IRLS   Log-Likelihood:                -55.340\n",
      "Date:                              Fri, 22 Dec 2023   Deviance:                       110.68\n",
      "Time:                                      20:22:33   Pearson chi2:                     125.\n",
      "No. Iterations:                                   9   Pseudo R-squ. (CS):             0.6539\n",
      "Covariance Type:                          nonrobust                                         \n",
      "==========================================================================================\n",
      "                             coef    std err          z      P>|z|      [0.025      0.975]\n",
      "------------------------------------------------------------------------------------------\n",
      "Intercept                 44.5427     11.787      3.779      0.000      21.441      67.644\n",
      "radius_mean               -1.1610      0.301     -3.862      0.000      -1.750      -0.572\n",
      "texture_mean              -0.4237      0.087     -4.866      0.000      -0.594      -0.253\n",
      "smoothness_mean          -85.3981     40.976     -2.084      0.037    -165.709      -5.088\n",
      "compactness_mean         -16.7104     22.510     -0.742      0.458     -60.829      27.408\n",
      "symmetry_mean            -46.2721     17.767     -2.604      0.009     -81.095     -11.449\n",
      "fractal_dimension_mean   -49.1536    121.888     -0.403      0.687    -288.050     189.742\n",
      "radius_se                 -7.1916      2.806     -2.563      0.010     -12.691      -1.692\n",
      "texture_se                 0.1849      0.784      0.236      0.814      -1.353       1.722\n",
      "smoothness_se            163.6068    159.702      1.024      0.306    -149.403     476.616\n",
      "compactness_se           -31.1808     42.772     -0.729      0.466    -115.012      52.650\n",
      "symmetry_se               74.7366     51.458      1.452      0.146     -26.119     175.592\n",
      "fractal_dimension_se     824.1245    412.040      2.000      0.045      16.541    1631.708\n",
      "==========================================================================================\n"
     ]
    }
   ],
   "source": [
    "# Run the model and report the results\n",
    "model = smf.glm(formula=formula, data=X_train, family=sm.families.Binomial())\n",
    "logistic_fit = model.fit()\n",
    "\n",
    "print(logistic_fit.summary())"
   ]
  },
  {
   "cell_type": "markdown",
   "id": "f327c924",
   "metadata": {
    "_cell_guid": "9a634825-9bc6-4656-8f64-409ba722815d",
    "_uuid": "403131448aee247b990deb89e860664ce860a260",
    "papermill": {
     "duration": 0.011013,
     "end_time": "2023-12-07T19:52:39.779891",
     "exception": false,
     "start_time": "2023-12-07T19:52:39.768878",
     "status": "completed"
    },
    "tags": []
   },
   "source": [
    "Great! In the next section, we will feed in the test data to this model to yield predictions of labels. Then, we will evaluate how accurately the model have predicted the data. "
   ]
  },
  {
   "cell_type": "markdown",
   "id": "c321efe1",
   "metadata": {
    "_cell_guid": "46f7728a-079e-4925-bc48-84378713abdb",
    "_uuid": "dfe1d209f9b1b14458d114294245583853b37e3e",
    "papermill": {
     "duration": 0.011003,
     "end_time": "2023-12-07T19:52:39.802473",
     "exception": false,
     "start_time": "2023-12-07T19:52:39.791470",
     "status": "completed"
    },
    "tags": []
   },
   "source": [
    "# Predicting\n",
    "___\n",
    "we developed a logistic regression model that assigns probabilities between 0 and 1 to unlabeled data. To evaluate its accuracy, we need to convert these probabilities to class labels. We'll use a threshold of 0.5: if the probability is closer to 0, we'll label it as \"M\" (Malignant), and if it's closer to 1, we'll label it as \"B\" (Benign)."
   ]
  },
  {
   "cell_type": "code",
   "execution_count": 13,
   "id": "18d8a95b",
   "metadata": {
    "_cell_guid": "2b12d89a-417b-4e9e-8488-b4d72f3f2f58",
    "_uuid": "ad5ac6457c9f3389d3ef0545597d21e1dcf92475",
    "execution": {
     "iopub.execute_input": "2023-12-07T19:52:39.827802Z",
     "iopub.status.busy": "2023-12-07T19:52:39.826782Z",
     "iopub.status.idle": "2023-12-07T19:52:39.862950Z",
     "shell.execute_reply": "2023-12-07T19:52:39.861167Z"
    },
    "papermill": {
     "duration": 0.055269,
     "end_time": "2023-12-07T19:52:39.869201",
     "exception": false,
     "start_time": "2023-12-07T19:52:39.813932",
     "status": "completed"
    },
    "tags": []
   },
   "outputs": [
    {
     "data": {
      "text/plain": [
       "id\n",
       "891923      0.997187\n",
       "848406      0.324251\n",
       "907915      0.996906\n",
       "911201      0.964710\n",
       "84799002    0.000544\n",
       "8911164     0.838719\n",
       "9113156     0.609435\n",
       "863031      0.967341\n",
       "8711216     0.053005\n",
       "865137      0.999907\n",
       "dtype: float64"
      ]
     },
     "execution_count": 13,
     "metadata": {},
     "output_type": "execute_result"
    }
   ],
   "source": [
    "# predict the test data and show the first 10 predictions\n",
    "predictions = logistic_fit.predict(X_test)\n",
    "predictions[:10]"
   ]
  },
  {
   "cell_type": "markdown",
   "id": "9966156c",
   "metadata": {
    "papermill": {
     "duration": 0.011233,
     "end_time": "2023-12-07T19:52:39.892691",
     "exception": false,
     "start_time": "2023-12-07T19:52:39.881458",
     "status": "completed"
    },
    "tags": []
   },
   "source": [
    "The values are numerical, we will need to convert them into categorical"
   ]
  },
  {
   "cell_type": "code",
   "execution_count": 14,
   "id": "1e286ab0",
   "metadata": {
    "_cell_guid": "08edda96-9f39-4edc-943e-76dc7d9d6bd3",
    "_uuid": "837a08b171d11107ad1b5681906352692fa335d7",
    "execution": {
     "iopub.execute_input": "2023-12-07T19:52:39.918527Z",
     "iopub.status.busy": "2023-12-07T19:52:39.917851Z",
     "iopub.status.idle": "2023-12-07T19:52:39.926004Z",
     "shell.execute_reply": "2023-12-07T19:52:39.924877Z"
    },
    "papermill": {
     "duration": 0.023959,
     "end_time": "2023-12-07T19:52:39.928777",
     "exception": false,
     "start_time": "2023-12-07T19:52:39.904818",
     "status": "completed"
    },
    "scrolled": true,
    "tags": []
   },
   "outputs": [
    {
     "data": {
      "text/plain": [
       "['B', 'M', 'B', 'B', 'M', 'B', 'B', 'B', 'M', 'B']"
      ]
     },
     "execution_count": 14,
     "metadata": {},
     "output_type": "execute_result"
    }
   ],
   "source": [
    "\n",
    "predictions_nominal = [ \"M\" if x < 0.5 else \"B\" for x in predictions]\n",
    "predictions_nominal[:10]"
   ]
  },
  {
   "cell_type": "markdown",
   "id": "5d53ca66",
   "metadata": {
    "_cell_guid": "edda11cc-1a74-4bef-b69e-4bbbd6ebce71",
    "_uuid": "385a0e9890d2f22b6c6d5fe7456e20c4a5ee9e6f",
    "papermill": {
     "duration": 0.011539,
     "end_time": "2023-12-07T19:52:39.952554",
     "exception": false,
     "start_time": "2023-12-07T19:52:39.941015",
     "status": "completed"
    },
    "tags": []
   },
   "source": [
    "We can confirm that probabilities closer to 0 have been labeled as \"M\", while the ones closer to 1 have been labeled as \"B\". Now we are able to evaluate the accuracy of our predictions by checking out the classification report and the confusion matrix."
   ]
  },
  {
   "cell_type": "code",
   "execution_count": 15,
   "id": "1c7af910",
   "metadata": {
    "_cell_guid": "7d1d4482-8f8a-44a5-b82b-6a6154201ec8",
    "_uuid": "6c9368e32cb571f6443283107b5936966aee4860",
    "execution": {
     "iopub.execute_input": "2023-12-07T19:52:39.979389Z",
     "iopub.status.busy": "2023-12-07T19:52:39.977876Z",
     "iopub.status.idle": "2023-12-07T19:52:40.005204Z",
     "shell.execute_reply": "2023-12-07T19:52:40.004023Z"
    },
    "papermill": {
     "duration": 0.043585,
     "end_time": "2023-12-07T19:52:40.008310",
     "exception": false,
     "start_time": "2023-12-07T19:52:39.964725",
     "status": "completed"
    },
    "tags": []
   },
   "outputs": [
    {
     "name": "stdout",
     "output_type": "stream",
     "text": [
      "              precision    recall  f1-score   support\n",
      "\n",
      "           B      0.982     0.965     0.974       115\n",
      "           M      0.931     0.964     0.947        56\n",
      "\n",
      "    accuracy                          0.965       171\n",
      "   macro avg      0.957     0.965     0.961       171\n",
      "weighted avg      0.966     0.965     0.965       171\n",
      "\n",
      "Confusion Matrix: \n",
      " [[111   4]\n",
      " [  2  54]] \n",
      "\n",
      "True Negative: 111\n",
      "False Positive: 4\n",
      "False Negative: 2\n",
      "True Positive: 54\n",
      "Correct Predictions: 96.5 %\n"
     ]
    }
   ],
   "source": [
    "# Display classification report\n",
    "print(classification_report(y_test, predictions_nominal, digits=3))\n",
    "\n",
    "# Calculate and display the confusion matrix\n",
    "cfm = confusion_matrix(y_test, predictions_nominal)\n",
    "\n",
    "true_negative = cfm[0][0]\n",
    "false_positive = cfm[0][1]\n",
    "false_negative = cfm[1][0]\n",
    "true_positive = cfm[1][1]\n",
    "\n",
    "print('Confusion Matrix: \\n', cfm, '\\n')\n",
    "\n",
    "# Display the count of true negatives, false positives, false negatives, and true positives\n",
    "print('True Negative:', true_negative)\n",
    "print('False Positive:', false_positive)\n",
    "print('False Negative:', false_negative)\n",
    "print('True Positive:', true_positive)\n",
    "\n",
    "# Display the percentage of correct predictions\n",
    "print('Correct Predictions:', round((true_negative + true_positive) / len(predictions_nominal) * 100, 1), '%')"
   ]
  },
  {
   "cell_type": "code",
   "execution_count": 16,
   "id": "89499d2b",
   "metadata": {
    "execution": {
     "iopub.execute_input": "2023-12-07T19:52:40.097032Z",
     "iopub.status.busy": "2023-12-07T19:52:40.096635Z",
     "iopub.status.idle": "2023-12-07T19:52:40.914000Z",
     "shell.execute_reply": "2023-12-07T19:52:40.913060Z"
    },
    "papermill": {
     "duration": 0.833094,
     "end_time": "2023-12-07T19:52:40.916202",
     "exception": false,
     "start_time": "2023-12-07T19:52:40.083108",
     "status": "completed"
    },
    "tags": []
   },
   "outputs": [
    {
     "data": {
      "image/png": "[encoded data removed]",
      "text/plain": [
       "<Figure size 640x480 with 2 Axes>"
      ]
     },
     "metadata": {},
     "output_type": "display_data"
    },
    {
     "data": {
      "image/png": "[encoded data removed]",
      "text/plain": [
       "<Figure size 800x600 with 1 Axes>"
      ]
     },
     "metadata": {},
     "output_type": "display_data"
    }
   ],
   "source": [
    "# Plotting Confusion Matrix as a heatmap\n",
    "labels = ['Benign', 'Malignant']\n",
    "sns.heatmap(cfm, annot=True, fmt='d', cmap='Blues', xticklabels=labels, yticklabels=labels)\n",
    "plt.title('Confusion Matrix')\n",
    "plt.xlabel('Predicted')\n",
    "plt.ylabel('Actual')\n",
    "plt.show()\n",
    "\n",
    "# Plotting a bar chart for the classification report\n",
    "report_dict = classification_report(y_test, predictions_nominal, digits=3, output_dict=True)\n",
    "report_df = pd.DataFrame(report_dict).T\n",
    "report_df = report_df.drop(['support'], axis=1)\n",
    "report_df.plot(kind='bar', colormap='viridis', figsize=(8, 6))\n",
    "plt.title('Classification Report')\n",
    "plt.ylabel('Score')\n",
    "plt.show()"
   ]
  }
 ],
 "metadata": {
  "kaggle": {
   "accelerator": "none",
   "dataSources": [
    {
     "datasetId": 180,
     "sourceId": 408,
     "sourceType": "datasetVersion"
    },
    {
     "datasetId": 1829286,
     "sourceId": 2984728,
     "sourceType": "datasetVersion"
    }
   ],
   "dockerImageVersionId": 30615,
   "isGpuEnabled": false,
   "isInternetEnabled": true,
   "language": "python",
   "sourceType": "notebook"
  },
  "kernelspec": {
   "display_name": "Python 3",
   "language": "python",
   "name": "python3"
  },
  "language_info": {
   "codemirror_mode": {
    "name": "ipython",
    "version": 3
   },
   "file_extension": ".py",
   "mimetype": "text/x-python",
   "name": "python",
   "nbconvert_exporter": "python",
   "pygments_lexer": "ipython3",
   "version": "3.12.0"
  },
  "papermill": {
   "default_parameters": {},
   "duration": 13.524624,
   "end_time": "2023-12-07T19:52:41.878894",
   "environment_variables": {},
   "exception": null,
   "input_path": "__notebook__.ipynb",
   "output_path": "__notebook__.ipynb",
   "parameters": {},
   "start_time": "2023-12-07T19:52:28.354270",
   "version": "2.4.0"
  }
 },
 "nbformat": 4,
 "nbformat_minor": 5
}
